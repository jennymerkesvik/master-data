{
 "cells": [
  {
   "cell_type": "code",
   "execution_count": 2,
   "id": "126a3b3d",
   "metadata": {},
   "outputs": [],
   "source": [
    "import pandas as pd\n",
    "import gzip as gz\n",
    "import numpy as np\n",
    "import re\n",
    "from matplotlib import pyplot as plt"
   ]
  },
  {
   "cell_type": "markdown",
   "id": "b8e4ff54",
   "metadata": {},
   "source": [
    "## File preparation"
   ]
  },
  {
   "cell_type": "code",
   "execution_count": 2,
   "id": "20f574bc",
   "metadata": {},
   "outputs": [],
   "source": [
    "path = 'C:\\\\Users\\\\jenny\\\\Documents\\\\NTNU\\\\Master\\\\Genomes\\\\'\n",
    "\n",
    "KO_df = pd.read_csv(path + 'KO_final.csv', header = 0, sep = '\\t')\n",
    "GO_df = pd.read_csv(path + 'GO_final.csv', header = 0, sep = '\\t')\n",
    "COG_df = pd.read_csv(path + 'COG_final.csv', header = 0, sep = '\\t')"
   ]
  },
  {
   "cell_type": "code",
   "execution_count": 3,
   "id": "20a6d06e",
   "metadata": {},
   "outputs": [],
   "source": [
    "# process list in chunks\n",
    "GO_list_df = np.array_split(GO_df, 500)\n",
    "\n",
    "# extract GO terms, explode to one row per term, drop duplicates\n",
    "for i in range(0,len(GO_list_df)):\n",
    "    GO_list_df[i]['GO'] = GO_list_df[i]['GO'].str.split(\",\")\n",
    "    GO_list_df[i] = GO_list_df[i].explode('GO')\n",
    "    GO_list_df[i] = GO_list_df[i].drop_duplicates(keep = 'first')\n",
    "\n",
    "# assemble chunks, drop duplicates and save\n",
    "GO_df = pd.concat(GO_list_df)\n",
    "GO_df = GO_df.drop_duplicates(keep = 'first')\n",
    "GO_df.to_csv(path + 'GO.csv')"
   ]
  },
  {
   "cell_type": "code",
   "execution_count": 3,
   "id": "5e340ebf",
   "metadata": {},
   "outputs": [],
   "source": [
    "# explode to one term per row, drop duplicates, save\n",
    "KO_df['KO'] = KO_df['KO'].str.split(\",\")\n",
    "KO_df = KO_df.explode('KO')\n",
    "KO_df = KO_df.drop_duplicates(keep = 'first')\n",
    "KO_df['KO'] = KO_df['KO'].str.split(':').str[1]\n",
    "\n",
    "KO_df.to_csv(path + 'KO.csv')"
   ]
  },
  {
   "cell_type": "code",
   "execution_count": 17,
   "id": "d35f90c4",
   "metadata": {},
   "outputs": [
    {
     "name": "stdout",
     "output_type": "stream",
     "text": [
      "[]\n"
     ]
    }
   ],
   "source": [
    "# to check data formats in COG_df column \"COG\"\n",
    "# only deviation: \"arCOG\" instead of \"COG\", will be replaced by \"COG\" in the next cell\n",
    "import re\n",
    "\n",
    "deviations = list()\n",
    "for cell in COG_df['COG']:\n",
    "    if cell[0:3] != 'COG':\n",
    "        pos = re.search('COG', cell).span()[0]\n",
    "        dev = cell[0:pos]\n",
    "        if dev not in deviations:\n",
    "            deviations.append(dev)\n",
    "\n",
    "print(deviations)"
   ]
  },
  {
   "cell_type": "code",
   "execution_count": 3,
   "id": "bc01c878",
   "metadata": {},
   "outputs": [],
   "source": [
    "# process COG list in chunks\n",
    "COG_list_df = np.array_split(COG_df, 500)\n",
    "\n",
    "# extract most specific COG term, drop duplictes\n",
    "for i in range(0,len(COG_list_df)):\n",
    "    COG_list_df[i]['COG'] = COG_list_df[i]['COG'].str.split('@').str[0]\n",
    "    COG_list_df[i] = COG_list_df[i].drop_duplicates(keep = 'first')\n",
    "\n",
    "# assemble chunks, fix non-COG rows, drop duplicates, save.\n",
    "COG_df = pd.concat(COG_list_df)\n",
    "COG_df = COG_df[COG_df['COG'].str.contains('COG', na = False)]\n",
    "COG_df['COG'] = COG_df['COG'].str.replace('arCOG', 'COG')\n",
    "COG_df = COG_df.drop_duplicates(keep = 'first')\n",
    "COG_df.to_csv(path + 'COG.csv')"
   ]
  },
  {
   "cell_type": "markdown",
   "id": "e2d9bb9b",
   "metadata": {},
   "source": [
    "## Overview"
   ]
  },
  {
   "cell_type": "code",
   "execution_count": 4,
   "id": "20f9e382",
   "metadata": {},
   "outputs": [],
   "source": [
    "KO_df = pd.read_csv(path + 'KO.csv', header = 0, sep = ',', names = ['old_index', 'key', 'KO'])\n",
    "GO_df = pd.read_csv(path + 'GO.csv', header = 0, sep = ',', names = ['old_index', 'key', 'GO'])\n",
    "COG_df = pd.read_csv(path + 'COG.csv', header = 0, sep = ',', names = ['old_index','key','COG'])"
   ]
  },
  {
   "cell_type": "code",
   "execution_count": 16,
   "id": "12eeafd8",
   "metadata": {
    "scrolled": false
   },
   "outputs": [
    {
     "data": {
      "text/plain": [
       "Text(0.08, 0.5, 'Instances')"
      ]
     },
     "execution_count": 16,
     "metadata": {},
     "output_type": "execute_result"
    },
    {
     "data": {
      "image/png": "[encoded data removed]",
      "text/plain": [
       "<Figure size 1080x360 with 3 Axes>"
      ]
     },
     "metadata": {
      "needs_background": "light"
     },
     "output_type": "display_data"
    }
   ],
   "source": [
    "# plot overview of annotation terms: frequency of terms vs. # instances\n",
    "# e.g. 100 terms have been associated with five sequences yields bar at x = 100, with height y = 5\n",
    "# thus max x value is 3307 - i.e. term associated with all sequences\n",
    "fig, axs = plt.subplots(1,3)\n",
    "\n",
    "plt.sca(axs[0])\n",
    "f = COG_df['COG'].value_counts().hist(bins = 30, \n",
    "                                  log = True,\n",
    "                                  figsize = (15,5), \n",
    "                                  color = '#37877E',\n",
    "                                  grid = False,\n",
    "                                  edgecolor = '#ffffff')\n",
    "plt.title('COGs\\n'+str(COG_df['COG'].nunique())+' unique', fontsize = 20)\n",
    "\n",
    "\n",
    "plt.sca(axs[1])\n",
    "GO_df['GO'].value_counts().hist(bins = 30, \n",
    "                                  log = True,\n",
    "                                  figsize = (15,5), \n",
    "                                  color = '#37877E',\n",
    "                                  grid = False,\n",
    "                                  edgecolor = '#ffffff')\n",
    "plt.title('GOs\\n'+str(GO_df['GO'].nunique())+' unique', fontsize = 20)\n",
    "\n",
    "plt.sca(axs[2])\n",
    "KO_df['KO'].value_counts().hist(bins = 30, \n",
    "                                  log = True,\n",
    "                                  figsize = (15,5), \n",
    "                                  color = '#37877E',\n",
    "                                  grid = False,\n",
    "                                  edgecolor = '#ffffff')\n",
    "plt.title('KOs\\n'+str(KO_df['KO'].nunique())+' unique', fontsize = 20)\n",
    "\n",
    "fig.text(0.5,0,'Frequency of term in dataset', ha = 'center', fontsize = 15)\n",
    "fig.text(0.08,0.5,'Instances', va = 'center', fontsize = 15, rotation = 'vertical')"
   ]
  },
  {
   "cell_type": "code",
   "execution_count": 13,
   "id": "fcaa65d0",
   "metadata": {},
   "outputs": [
    {
     "data": {
      "text/plain": [
       "K02988    3282\n",
       "K02892    3282\n",
       "K02895    3281\n",
       "K02904    3279\n",
       "K02876    3279\n",
       "          ... \n",
       "K18054       1\n",
       "K11274       1\n",
       "K12367       1\n",
       "K14562       1\n",
       "K00214       1\n",
       "Name: KO, Length: 10188, dtype: int64"
      ]
     },
     "execution_count": 13,
     "metadata": {},
     "output_type": "execute_result"
    }
   ],
   "source": [
    "KO_df['KO'].value_counts()"
   ]
  },
  {
   "cell_type": "code",
   "execution_count": 14,
   "id": "0c37221c",
   "metadata": {},
   "outputs": [
    {
     "data": {
      "text/plain": [
       "GO:0003674    3306\n",
       "GO:0044237    3305\n",
       "GO:0008150    3305\n",
       "GO:0008152    3305\n",
       "GO:0003824    3305\n",
       "              ... \n",
       "GO:0061417       1\n",
       "GO:0015843       1\n",
       "GO:0090266       1\n",
       "GO:1990141       1\n",
       "GO:0072575       1\n",
       "Name: GO, Length: 14002, dtype: int64"
      ]
     },
     "execution_count": 14,
     "metadata": {},
     "output_type": "execute_result"
    }
   ],
   "source": [
    "GO_df['GO'].value_counts()"
   ]
  },
  {
   "cell_type": "code",
   "execution_count": 15,
   "id": "778f0581",
   "metadata": {},
   "outputs": [
    {
     "data": {
      "text/plain": [
       "COG0454     3290\n",
       "COG0142     3288\n",
       "COG1109     3287\n",
       "COG0186     3286\n",
       "COG0098     3285\n",
       "            ... \n",
       "COG14244       1\n",
       "COG11743       1\n",
       "COG09782       1\n",
       "COG14366       1\n",
       "COG09695       1\n",
       "Name: COG, Length: 9744, dtype: int64"
      ]
     },
     "execution_count": 15,
     "metadata": {},
     "output_type": "execute_result"
    }
   ],
   "source": [
    "COG_df['COG'].value_counts()"
   ]
  }
 ],
 "metadata": {
  "kernelspec": {
   "display_name": "Python 3",
   "language": "python",
   "name": "python3"
  },
  "language_info": {
   "codemirror_mode": {
    "name": "ipython",
    "version": 3
   },
   "file_extension": ".py",
   "mimetype": "text/x-python",
   "name": "python",
   "nbconvert_exporter": "python",
   "pygments_lexer": "ipython3",
   "version": "3.8.8"
  },
  "widgets": {
   "application/vnd.jupyter.widget-state+json": {
    "state": {},
    "version_major": 2,
    "version_minor": 0
   }
  }
 },
 "nbformat": 4,
 "nbformat_minor": 5
}
